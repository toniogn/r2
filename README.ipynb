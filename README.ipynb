{
 "cells": [
  {
   "cell_type": "markdown",
   "metadata": {},
   "source": [
    "R2: Relatively useless toolbox\n",
    "------------------------------\n",
    "\n",
    "This package aims to implement some tools and objects of relativity theories in order to observe the relativistic effects on physical cases."
   ]
  },
  {
   "cell_type": "code",
   "execution_count": 6,
   "metadata": {},
   "outputs": [
    {
     "name": "stdout",
     "output_type": "stream",
     "text": [
      "The velocity vector is:\n",
      "[[3.33102731e+07]\n",
      " [1.49896229e+08]\n",
      " [7.49481145e+07]]\n",
      "\n",
      "It's norm is the 0.5699523480189775 fraction of light velocity.\n"
     ]
    }
   ],
   "source": [
    "from r2 import Constants, VelocityVector\n",
    "velocity = Constants.LIGHT_VELOCITY * VelocityVector(\n",
    "        1 / 9,\n",
    "        1 / 2,\n",
    "        1 / 4,\n",
    ")\n",
    "print(f\"The velocity vector is:\\n{velocity}\\n\")\n",
    "print(f\"It's norm is the {velocity.compute_beta()} fraction of light velocity.\")"
   ]
  },
  {
   "cell_type": "code",
   "execution_count": 7,
   "metadata": {},
   "outputs": [
    {
     "name": "stdout",
     "output_type": "stream",
     "text": [
      "The velocity quadri-vector built from the previous velocity vector is:\n",
      "[[3.64854055e+08]\n",
      " [4.05393394e+07]\n",
      " [1.82427027e+08]\n",
      " [9.12135137e+07]]\n",
      "\n",
      "This quadri-vector in it's proper reference frame is:\n",
      "[[2.99792458e+08]\n",
      " [0.00000000e+00]\n",
      " [0.00000000e+00]\n",
      " [0.00000000e+00]]\n"
     ]
    }
   ],
   "source": [
    "from r2 import VelocityQuadriVector\n",
    "velocity_quad = VelocityQuadriVector.from_space_vector(velocity)\n",
    "print(f\"The velocity quadri-vector built from the previous velocity vector is:\\n{velocity_quad}\\n\")\n",
    "velocity_quad_proper_ref = velocity_quad.lorentz_transform(velocity)\n",
    "print(f\"This quadri-vector in it's proper reference frame is:\\n{velocity_quad_proper_ref}\")"
   ]
  },
  {
   "cell_type": "code",
   "execution_count": 8,
   "metadata": {},
   "outputs": [
    {
     "name": "stdout",
     "output_type": "stream",
     "text": [
      "The impulse quadri-vector of a 2kg mass with the previous velocity vector is:\n",
      "[[7.29708110e+08]\n",
      " [8.10786789e+07]\n",
      " [3.64854055e+08]\n",
      " [1.82427027e+08]]\n",
      "\n",
      "It's energy is 2.1876098782138845e+17J.\n",
      "\n",
      "In it's proper reference frame the same impulse quadri-vector is:\n",
      "[[5.99584916e+08]\n",
      " [0.00000000e+00]\n",
      " [0.00000000e+00]\n",
      " [0.00000000e+00]]\n",
      "\n",
      "In this frame it's energy is 1.7975103574736355e+17J. The reference frame is the frame where the energy is the lowest (no kinetical energy).\n"
     ]
    }
   ],
   "source": [
    "from r2 import ImpulseQuadriVector\n",
    "mass = 2\n",
    "impulse_quad = ImpulseQuadriVector.from_space_vector(velocity_vector=velocity, mass=mass)\n",
    "print(f\"The impulse quadri-vector of a {mass}kg mass with the previous velocity vector is:\\n{impulse_quad}\\n\")\n",
    "print(f\"It's energy is {impulse_quad.compute_energy()}J.\\n\")\n",
    "impulse_quad_proper_ref = impulse_quad.lorentz_transform(velocity)\n",
    "print(f\"In it's proper reference frame the same impulse quadri-vector is:\\n{impulse_quad_proper_ref}\\n\")\n",
    "print(f\"In this frame it's energy is {impulse_quad_proper_ref.compute_energy()}J. The reference frame is the frame where the energy is the lowest (no kinetical energy).\")"
   ]
  },
  {
   "cell_type": "code",
   "execution_count": 9,
   "metadata": {},
   "outputs": [
    {
     "name": "stdout",
     "output_type": "stream",
     "text": [
      "The impulse quadri-vector of a null mass particule is defined from it's energy. For instance a photon with a 8e-07m wavelength with the following velocity vector:\n",
      "[[2.99792458e+08]\n",
      " [0.00000000e+00]\n",
      " [0.00000000e+00]]\n",
      "\n",
      "Has the following impulse quadri-vector:\n",
      "[[8.28258755e-28]\n",
      " [8.28258755e-28]\n",
      " [0.00000000e+00]\n",
      " [0.00000000e+00]]\n",
      "\n"
     ]
    }
   ],
   "source": [
    "from r2 import ImpulseQuadriVector\n",
    "_lambda = 800e-9\n",
    "energy = Constants.LIGHT_VELOCITY * Constants.PLANCK_CONSTANT / _lambda\n",
    "photon_velocity = Constants.LIGHT_VELOCITY * VelocityVector(\n",
    "        1,\n",
    "        0,\n",
    "        0,\n",
    ")\n",
    "impulse_quad = ImpulseQuadriVector.from_space_vector(velocity_vector=photon_velocity, energy=energy)\n",
    "print(f\"The impulse quadri-vector of a null mass particule is defined from it's energy. For instance a photon with a {_lambda}m wavelength with the following velocity vector:\\n{photon_velocity}\\n\")\n",
    "print(f\"Has the following impulse quadri-vector:\\n{impulse_quad}\\n\")"
   ]
  },
  {
   "cell_type": "markdown",
   "metadata": {},
   "source": [
    "The proper reference frame is not defined for this quadri-vector because by definition the speed of light is absolute. You can't find a reference frame where the photon is not moving in space. But, you can observe the compatibility of the Lorentz Transform with the light speed absolutism:"
   ]
  },
  {
   "cell_type": "code",
   "execution_count": 12,
   "metadata": {},
   "outputs": [
    {
     "name": "stdout",
     "output_type": "stream",
     "text": [
      "[[8.28258755e-28]\n",
      " [8.28258755e-28]\n",
      " [0.00000000e+00]\n",
      " [0.00000000e+00]]\n"
     ]
    }
   ],
   "source": [
    "impulse_quad.lorentz_transform(velocity)\n",
    "print(impulse_quad)"
   ]
  }
 ],
 "metadata": {
  "interpreter": {
   "hash": "25d348b6ea3857e37c32b2e011c555dad87125d10c58d2487e801719a691794d"
  },
  "kernelspec": {
   "display_name": "Python 3.10.0 64-bit ('.venv': venv)",
   "language": "python",
   "name": "python3"
  },
  "language_info": {
   "codemirror_mode": {
    "name": "ipython",
    "version": 3
   },
   "file_extension": ".py",
   "mimetype": "text/x-python",
   "name": "python",
   "nbconvert_exporter": "python",
   "pygments_lexer": "ipython3",
   "version": "3.10.0"
  },
  "orig_nbformat": 4
 },
 "nbformat": 4,
 "nbformat_minor": 2
}
